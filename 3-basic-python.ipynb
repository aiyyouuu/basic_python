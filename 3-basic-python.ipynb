{
 "cells": [
  {
   "cell_type": "markdown",
   "metadata": {},
   "source": [
    "# Basic Python"
   ]
  },
  {
   "cell_type": "markdown",
   "metadata": {},
   "source": [
    "## Print Statements and Comment"
   ]
  },
  {
   "cell_type": "code",
   "execution_count": 1,
   "metadata": {},
   "outputs": [
    {
     "name": "stdout",
     "output_type": "stream",
     "text": [
      "Hello World! atau Haloo Dunia\n"
     ]
    }
   ],
   "source": [
    "print(\"Hello World! atau Haloo Dunia\")\n",
    "\n",
    "# this is a comment line\n",
    "# anything starts with # will be ignored"
   ]
  },
  {
   "cell_type": "markdown",
   "metadata": {},
   "source": [
    "## Variable Memory"
   ]
  },
  {
   "cell_type": "markdown",
   "metadata": {},
   "source": [
    "### Ada 3 Jenis variabel dasar : Integer, Float, and String"
   ]
  },
  {
   "cell_type": "code",
   "execution_count": 2,
   "metadata": {},
   "outputs": [
    {
     "name": "stdout",
     "output_type": "stream",
     "text": [
      "100\n",
      "36.0\n",
      "Room 1\n"
     ]
    }
   ],
   "source": [
    "people = 100  # integer\n",
    "temperature = 36.0  # float\n",
    "room_name = \"Room 1\"  # string\n",
    "\n",
    "print(people)\n",
    "print(temperature)\n",
    "print(room_name)"
   ]
  },
  {
   "cell_type": "markdown",
   "metadata": {},
   "source": [
    "### List (atau disebut juga : Array. Variable berindex)"
   ]
  },
  {
   "cell_type": "code",
   "execution_count": 3,
   "metadata": {},
   "outputs": [
    {
     "name": "stdout",
     "output_type": "stream",
     "text": [
      "['apple', 'banana']\n",
      "['this is string', 10]\n"
     ]
    }
   ],
   "source": [
    "fruits = []  # empty list\n",
    "fruits = [\"apple\", \"banana\"]  # list with 2 elements\n",
    "another_list = [\"this is string\", 10]  # list with different types of elements\n",
    "\n",
    "print fruits\n",
    "print another_list"
   ]
  },
  {
   "cell_type": "code",
   "execution_count": 4,
   "metadata": {},
   "outputs": [
    {
     "name": "stdout",
     "output_type": "stream",
     "text": [
      "['apple', 'banana', 'orange']\n"
     ]
    }
   ],
   "source": [
    "# add element to a list\n",
    "fruits = [\"apple\", \"banana\"]\n",
    "fruits.append(\"orange\")\n",
    "print fruits"
   ]
  },
  {
   "cell_type": "code",
   "execution_count": 5,
   "metadata": {},
   "outputs": [
    {
     "name": "stdout",
     "output_type": "stream",
     "text": [
      "apple\n",
      "banana\n",
      "orange\n"
     ]
    }
   ],
   "source": [
    "# accessing list elements\n",
    "print fruits[0]\n",
    "print fruits[1]\n",
    "print fruits[-1]"
   ]
  },
  {
   "cell_type": "markdown",
   "metadata": {},
   "source": [
    "### Variabel jenis Dictionary"
   ]
  },
  {
   "cell_type": "code",
   "execution_count": 6,
   "metadata": {},
   "outputs": [
    {
     "name": "stdout",
     "output_type": "stream",
     "text": [
      "{'age': 30, 'name': 'John'}\n"
     ]
    }
   ],
   "source": [
    "customer = {}  # empty dictionary\n",
    "customer = {\"name\": \"John\", \"age\": 30}  # dictionary with key -> value pair\n",
    "print customer"
   ]
  },
  {
   "cell_type": "code",
   "execution_count": 7,
   "metadata": {},
   "outputs": [
    {
     "name": "stdout",
     "output_type": "stream",
     "text": [
      "{'age': 30, 'name': 'John', 'email': 'john@example.com'}\n"
     ]
    }
   ],
   "source": [
    "# add new key,value to dictionary\n",
    "customer = {\"name\": \"John\", \"age\": 30}\n",
    "customer[\"email\"] = \"john@example.com\"\n",
    "print customer"
   ]
  },
  {
   "cell_type": "code",
   "execution_count": 8,
   "metadata": {},
   "outputs": [
    {
     "name": "stdout",
     "output_type": "stream",
     "text": [
      "John\n",
      "john@example.com\n"
     ]
    }
   ],
   "source": [
    "# accessing individual value using key\n",
    "print customer[\"name\"]\n",
    "print customer[\"email\"]"
   ]
  },
  {
   "cell_type": "code",
   "execution_count": 9,
   "metadata": {},
   "outputs": [
    {
     "name": "stdout",
     "output_type": "stream",
     "text": [
      "['age', 'name', 'email']\n",
      "[30, 'John', 'john@example.com']\n",
      "[('age', 30), ('name', 'John'), ('email', 'john@example.com')]\n"
     ]
    }
   ],
   "source": [
    "# accessing dictionary keys and values\n",
    "print customer.keys()\n",
    "print customer.values()\n",
    "print customer.items()"
   ]
  },
  {
   "cell_type": "markdown",
   "metadata": {},
   "source": [
    "### Variabel Jenis Tuple"
   ]
  },
  {
   "cell_type": "code",
   "execution_count": 10,
   "metadata": {},
   "outputs": [
    {
     "name": "stdout",
     "output_type": "stream",
     "text": [
      "(0, 5)\n",
      "('red', 'green', 'blue')\n"
     ]
    }
   ],
   "source": [
    "# tuple is similar to list but immutable once created\n",
    "coordinate = (0, 5)\n",
    "colors = (\"red\", \"green\", \"blue\")\n",
    "print coordinate\n",
    "print colors"
   ]
  },
  {
   "cell_type": "code",
   "execution_count": 11,
   "metadata": {},
   "outputs": [
    {
     "name": "stdout",
     "output_type": "stream",
     "text": [
      "0 5\n"
     ]
    }
   ],
   "source": [
    "# accessing elements\n",
    "print coordinate[0], coordinate[1]"
   ]
  },
  {
   "cell_type": "markdown",
   "metadata": {},
   "source": [
    "### Variabel jenis Himpunan (Set)"
   ]
  },
  {
   "cell_type": "code",
   "execution_count": 12,
   "metadata": {},
   "outputs": [
    {
     "name": "stdout",
     "output_type": "stream",
     "text": [
      "set([1, 2, 3])\n"
     ]
    }
   ],
   "source": [
    "unique_numbers = {1, 2, 3, 3}\n",
    "print unique_numbers"
   ]
  },
  {
   "cell_type": "code",
   "execution_count": 13,
   "metadata": {},
   "outputs": [
    {
     "name": "stdout",
     "output_type": "stream",
     "text": [
      "set([1, 2, 3, 4, 5])\n"
     ]
    }
   ],
   "source": [
    "# add element to a set\n",
    "unique_numbers.add(2)\n",
    "unique_numbers.add(4)\n",
    "unique_numbers.update([1, 5])\n",
    "print unique_numbers"
   ]
  },
  {
   "cell_type": "markdown",
   "metadata": {},
   "source": [
    "### Concat String with Number"
   ]
  },
  {
   "cell_type": "code",
   "execution_count": 14,
   "metadata": {},
   "outputs": [
    {
     "name": "stdout",
     "output_type": "stream",
     "text": [
      "100 people\n",
      "There are 100 people\n",
      "There are 100 people\n",
      "The temperature is 36.000000\n"
     ]
    }
   ],
   "source": [
    "text = str(people) + \" people\"\n",
    "print text\n",
    "print \"There are %i people\" % people\n",
    "print \"There are \" + str(people) + \" people\"\n",
    "print \"The temperature is %f\" % temperature"
   ]
  },
  {
   "cell_type": "markdown",
   "metadata": {},
   "source": [
    "### Concat String"
   ]
  },
  {
   "cell_type": "code",
   "execution_count": 15,
   "metadata": {},
   "outputs": [
    {
     "name": "stdout",
     "output_type": "stream",
     "text": [
      "Room: Room 1\n",
      "There are 100 people in Room 1\n",
      "There are 100 people in Room 1\n"
     ]
    }
   ],
   "source": [
    "text = \"Room: \" + room_name\n",
    "print text\n",
    "print \"There are\", people, \"people in\", room_name\n",
    "print \" \".join([\"There are\", str(people), \"people in\", room_name])"
   ]
  },
  {
   "cell_type": "markdown",
   "metadata": {},
   "source": [
    "## Basic Mathematical Operations"
   ]
  },
  {
   "cell_type": "code",
   "execution_count": 16,
   "metadata": {},
   "outputs": [
    {
     "name": "stdout",
     "output_type": "stream",
     "text": [
      "22\n",
      "300\n",
      "30\n",
      "97\n",
      "7\n"
     ]
    }
   ],
   "source": [
    "print 20 + 2\n",
    "print 75 * 4\n",
    "print 25 + 30 / 6\n",
    "print 100 - 25 * 3 % 4\n",
    "print 3 + 2 + 1 - 5 + 4 % 2 - 1 / 4 + 6"
   ]
  },
  {
   "cell_type": "code",
   "execution_count": 17,
   "metadata": {},
   "outputs": [
    {
     "name": "stdout",
     "output_type": "stream",
     "text": [
      "3\n",
      "3.33333333333\n",
      "1\n"
     ]
    }
   ],
   "source": [
    "print 10 / 3  # div\n",
    "print 10.0 / 3  # floating point division\n",
    "print 10 % 3  # mod"
   ]
  },
  {
   "cell_type": "markdown",
   "metadata": {},
   "source": [
    "### Comparison"
   ]
  },
  {
   "cell_type": "code",
   "execution_count": 18,
   "metadata": {},
   "outputs": [
    {
     "name": "stdout",
     "output_type": "stream",
     "text": [
      "True\n",
      "True\n",
      "False\n",
      "True\n"
     ]
    }
   ],
   "source": [
    "print 5 > 2\n",
    "print 10 <= 100\n",
    "print 5 - 95 > 0\n",
    "print 7 == 7.0"
   ]
  },
  {
   "cell_type": "markdown",
   "metadata": {},
   "source": [
    "## Function"
   ]
  },
  {
   "cell_type": "code",
   "execution_count": 19,
   "metadata": {},
   "outputs": [
    {
     "name": "stdout",
     "output_type": "stream",
     "text": [
      "Hello World!\n"
     ]
    }
   ],
   "source": [
    "# function with no return statement\n",
    "def print_hello_world():\n",
    "    print \"Hello World!\"\n",
    "    \n",
    "print_hello_world()"
   ]
  },
  {
   "cell_type": "code",
   "execution_count": 20,
   "metadata": {},
   "outputs": [
    {
     "name": "stdout",
     "output_type": "stream",
     "text": [
      "False\n",
      "True\n"
     ]
    }
   ],
   "source": [
    "# function with return statement\n",
    "def is_even(number):\n",
    "    return number % 2 == 0\n",
    "\n",
    "print is_even(3)\n",
    "print is_even(4)"
   ]
  },
  {
   "cell_type": "markdown",
   "metadata": {},
   "source": [
    "## IF Statement"
   ]
  },
  {
   "cell_type": "code",
   "execution_count": 21,
   "metadata": {},
   "outputs": [
    {
     "name": "stdout",
     "output_type": "stream",
     "text": [
      "10 is even\n",
      "17 is odd\n"
     ]
    }
   ],
   "source": [
    "def print_is_even_number(number):\n",
    "    if is_even(number):\n",
    "        print \"%i is even\" % number\n",
    "    else:\n",
    "        print \"%i is odd\" % number\n",
    "        \n",
    "\n",
    "print_is_even_number(10)\n",
    "print_is_even_number(17)"
   ]
  },
  {
   "cell_type": "code",
   "execution_count": 22,
   "metadata": {},
   "outputs": [
    {
     "name": "stdout",
     "output_type": "stream",
     "text": [
      "Wrong guess! try with larger number\n",
      "Wrong guess! try with smaller number\n",
      "Correct! Congratulations!\n"
     ]
    }
   ],
   "source": [
    "number = 99\n",
    "def guess_number(guess):\n",
    "    if guess < number:\n",
    "        print \"Wrong guess! try with larger number\"\n",
    "    elif guess > number:\n",
    "        print \"Wrong guess! try with smaller number\"\n",
    "    else:\n",
    "        print \"Correct! Congratulations!\"\n",
    "        \n",
    "\n",
    "guess_number(5)\n",
    "guess_number(100)\n",
    "guess_number(99)"
   ]
  },
  {
   "cell_type": "markdown",
   "metadata": {},
   "source": [
    "## Looping"
   ]
  },
  {
   "cell_type": "code",
   "execution_count": 23,
   "metadata": {},
   "outputs": [
    {
     "name": "stdout",
     "output_type": "stream",
     "text": [
      "0\n",
      "1\n",
      "2\n",
      "3\n",
      "4\n",
      "5\n",
      "6\n",
      "7\n",
      "8\n",
      "9\n"
     ]
    }
   ],
   "source": [
    "# looping in range [0, n), n is excluded\n",
    "for i in range(10):\n",
    "    print i"
   ]
  },
  {
   "cell_type": "code",
   "execution_count": 24,
   "metadata": {},
   "outputs": [
    {
     "name": "stdout",
     "output_type": "stream",
     "text": [
      "-5\n",
      "-4\n",
      "-3\n",
      "-2\n",
      "-1\n",
      "0\n",
      "1\n",
      "2\n",
      "3\n"
     ]
    }
   ],
   "source": [
    "# looping in range [a, b), b is excluded\n",
    "for i in range(-5, 4):\n",
    "    print i"
   ]
  },
  {
   "cell_type": "code",
   "execution_count": 25,
   "metadata": {},
   "outputs": [
    {
     "name": "stdout",
     "output_type": "stream",
     "text": [
      "apple\n",
      "banana\n",
      "orange\n"
     ]
    }
   ],
   "source": [
    "# looping over list\n",
    "fruits = [\"apple\", \"banana\", \"orange\"]\n",
    "for fruit in fruits:\n",
    "    print fruit"
   ]
  },
  {
   "cell_type": "code",
   "execution_count": 26,
   "metadata": {},
   "outputs": [
    {
     "name": "stdout",
     "output_type": "stream",
     "text": [
      "The fruits are:\n",
      "0. apple\n",
      "1. banana\n",
      "2. orange\n"
     ]
    }
   ],
   "source": [
    "# print all elements in a list\n",
    "# with function enumerate to get the index of each element\n",
    "print \"The fruits are:\"\n",
    "for i, fruit in enumerate(fruits):\n",
    "    print \"%i. %s\" % (i, fruit)"
   ]
  },
  {
   "cell_type": "code",
   "execution_count": 27,
   "metadata": {},
   "outputs": [
    {
     "name": "stdout",
     "output_type": "stream",
     "text": [
      "[0, 2, 4, 6, 8]\n"
     ]
    }
   ],
   "source": [
    "numbers = []  # create empty list\n",
    "\n",
    "# loop from 0 to 9\n",
    "# add number to the list if the number is even\n",
    "for i in range(10):\n",
    "    if is_even(i):\n",
    "        numbers.append(i)\n",
    "    \n",
    "print numbers"
   ]
  },
  {
   "cell_type": "code",
   "execution_count": 28,
   "metadata": {},
   "outputs": [
    {
     "name": "stdout",
     "output_type": "stream",
     "text": [
      "2\n",
      "3\n",
      "4\n",
      "5\n",
      "6\n",
      "7\n",
      "8\n",
      "9\n"
     ]
    }
   ],
   "source": [
    "# while loop\n",
    "\n",
    "i = 2\n",
    "numbers = []\n",
    "\n",
    "while i < 10:\n",
    "    print i\n",
    "    numbers.append(i)\n",
    "    i += 1"
   ]
  },
  {
   "cell_type": "markdown",
   "metadata": {},
   "source": [
    "## Class and Object"
   ]
  },
  {
   "cell_type": "code",
   "execution_count": 29,
   "metadata": {},
   "outputs": [
    {
     "name": "stdout",
     "output_type": "stream",
     "text": [
      "Person name: John\n",
      "Person age: 30\n"
     ]
    }
   ],
   "source": [
    "# declaring class\n",
    "class Person:\n",
    "    \n",
    "    # __init__ is default initialization method for class\n",
    "    # this is usually used to initialize attributes\n",
    "    def __init__(self):\n",
    "        self.name = \"John\"\n",
    "        self.age = 30\n",
    "\n",
    "\n",
    "person = Person()\n",
    "print \"Person name: %s\" % person.name\n",
    "print \"Person age: %i\" % person.age"
   ]
  },
  {
   "cell_type": "code",
   "execution_count": 30,
   "metadata": {},
   "outputs": [
    {
     "name": "stdout",
     "output_type": "stream",
     "text": [
      "John\n",
      "30\n",
      "John\n"
     ]
    }
   ],
   "source": [
    "class Person:\n",
    "    \n",
    "    def __init__(self, name, age):\n",
    "        self.name = name\n",
    "        self.age = age\n",
    "        \n",
    "    def print_name(self):\n",
    "        print self.name\n",
    "        \n",
    "    def edit_age(self, new_age):\n",
    "        self.age = new_age\n",
    "        \n",
    "    def __str__(self):\n",
    "        return \"Person name: %s with age: %d\" % (self.name, self.age)\n",
    "    \n",
    "    \n",
    "person = Person(\"John\", \"30\")\n",
    "print person.name\n",
    "print person.age\n",
    "person.print_name()"
   ]
  },
  {
   "cell_type": "code",
   "execution_count": 31,
   "metadata": {},
   "outputs": [
    {
     "name": "stdout",
     "output_type": "stream",
     "text": [
      "None\n",
      "35\n",
      "Person name: John with age: 35\n"
     ]
    }
   ],
   "source": [
    "print person.edit_age(35)\n",
    "print person.age\n",
    "print person"
   ]
  },
  {
   "cell_type": "code",
   "execution_count": null,
   "metadata": {
    "collapsed": true
   },
   "outputs": [],
   "source": []
  },
  {
   "cell_type": "markdown",
   "metadata": {},
   "source": [
    "## External Resources\n",
    "1. [Learn Python the Hard Way](https://learnpythonthehardway.org/book/)"
   ]
  }
 ],
 "metadata": {
  "kernelspec": {
   "display_name": "Python 3",
   "language": "python",
   "name": "python3"
  },
  "language_info": {
   "codemirror_mode": {
    "name": "ipython",
    "version": 3
   },
   "file_extension": ".py",
   "mimetype": "text/x-python",
   "name": "python",
   "nbconvert_exporter": "python",
   "pygments_lexer": "ipython3",
   "version": "3.8.3"
  }
 },
 "nbformat": 4,
 "nbformat_minor": 2
}
